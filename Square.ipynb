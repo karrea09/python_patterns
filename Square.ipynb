{
 "cells": [
  {
   "cell_type": "code",
   "execution_count": 46,
   "id": "5ff9e77f-895e-43d4-9fbf-299c13232c64",
   "metadata": {},
   "outputs": [
    {
     "name": "stdout",
     "output_type": "stream",
     "text": [
      "*****\n",
      "*****\n",
      "*****\n",
      "*****\n",
      "*****\n"
     ]
    }
   ],
   "source": [
    "#1-for\n",
    "for i in range(0,5):\n",
    "    print(5* '*')\n",
    "    \n",
    "   "
   ]
  },
  {
   "cell_type": "code",
   "execution_count": 47,
   "id": "87f5b38f-df58-4402-ad66-e3775b961d50",
   "metadata": {},
   "outputs": [
    {
     "name": "stdout",
     "output_type": "stream",
     "text": [
      "*****\n",
      "*****\n",
      "*****\n",
      "*****\n",
      "*****\n"
     ]
    }
   ],
   "source": [
    "#1-while\n",
    "n= 1\n",
    "while n<=5:\n",
    "    print(5* '*')\n",
    "    n = n+1"
   ]
  },
  {
   "cell_type": "code",
   "execution_count": 48,
   "id": "f797ee37-5459-41a2-a8df-016f21172b70",
   "metadata": {},
   "outputs": [
    {
     "name": "stdout",
     "output_type": "stream",
     "text": [
      " 1 1 1 1 1\n",
      " 2 2 2 2 2\n",
      " 3 3 3 3 3\n",
      " 4 4 4 4 4\n",
      " 5 5 5 5 5\n"
     ]
    }
   ],
   "source": [
    "#2-for\n",
    "for i in range(1,6):\n",
    "    a = 5* (\" \"+str(i))\n",
    "    print(a)"
   ]
  },
  {
   "cell_type": "code",
   "execution_count": 49,
   "id": "7168fbd3-83d1-421c-9db7-0b3ac21563a5",
   "metadata": {},
   "outputs": [
    {
     "name": "stdout",
     "output_type": "stream",
     "text": [
      " 1 1 1 1 1\n",
      " 2 2 2 2 2\n",
      " 3 3 3 3 3\n",
      " 4 4 4 4 4\n",
      " 5 5 5 5 5\n"
     ]
    }
   ],
   "source": [
    "#2-while\n",
    "n = 1\n",
    "while n<=5:\n",
    "    a = 5 * (\" \"+str(n))\n",
    "    print(a)\n",
    "    n = n+1"
   ]
  },
  {
   "cell_type": "code",
   "execution_count": 50,
   "id": "44a17ab6-3c3e-43bc-97f4-3d8a2c5a79ee",
   "metadata": {},
   "outputs": [
    {
     "name": "stdout",
     "output_type": "stream",
     "text": [
      " 1 2 3 4 5\n",
      " 1 2 3 4 5\n",
      " 1 2 3 4 5\n",
      " 1 2 3 4 5\n",
      " 1 2 3 4 5\n"
     ]
    }
   ],
   "source": [
    "#3-for\n",
    "for i in range(1,6):\n",
    "    st = \"\"\n",
    "    for j in range(1,6):\n",
    "        st+=\" \"+str(j)\n",
    "    print(st)\n",
    "            \n",
    "        \n"
   ]
  },
  {
   "cell_type": "code",
   "execution_count": 51,
   "id": "eef79242-8031-4fe7-905f-a894283b7db8",
   "metadata": {},
   "outputs": [
    {
     "name": "stdout",
     "output_type": "stream",
     "text": [
      " 1 2 3 4 5\n",
      " 1 2 3 4 5\n",
      " 1 2 3 4 5\n",
      " 1 2 3 4 5\n",
      " 1 2 3 4 5\n"
     ]
    }
   ],
   "source": [
    "#3-while\n",
    "n0 = 1\n",
    "while n0<=5:\n",
    "    n = 1\n",
    "    st = \"\"\n",
    "    while n<=5:\n",
    "        st+=\" \"+str(n)        \n",
    "        n = n+1\n",
    "    print(st)\n",
    "    n0 = n0+1"
   ]
  },
  {
   "cell_type": "code",
   "execution_count": 52,
   "id": "cbae0af5-a7e9-4f8e-9c28-9ab702a7f6bd",
   "metadata": {},
   "outputs": [
    {
     "name": "stdout",
     "output_type": "stream",
     "text": [
      " A A A A A\n",
      " B B B B B\n",
      " C C C C C\n",
      " D D D D D\n",
      " E E E E E\n"
     ]
    }
   ],
   "source": [
    "#4-for\n",
    "lst = ['A','B','C','D','E']\n",
    "for i in lst:\n",
    "    print(5* (\" \"+i))\n"
   ]
  },
  {
   "cell_type": "code",
   "execution_count": 53,
   "id": "453bfd58-4a0b-41c6-a609-6d5ff8c6d48e",
   "metadata": {},
   "outputs": [
    {
     "name": "stdout",
     "output_type": "stream",
     "text": [
      " A A A A A\n",
      " B B B B B\n",
      " C C C C C\n",
      " D D D D D\n",
      " E E E E E\n"
     ]
    }
   ],
   "source": [
    "#4-while\n",
    "lst = ['A','B','C','D','E']\n",
    "n = 0\n",
    "while n<5:\n",
    "    print(5*(\" \"+lst[n]))\n",
    "    n = n+1"
   ]
  },
  {
   "cell_type": "code",
   "execution_count": 54,
   "id": "e3b5bc11-358a-44cc-8eb1-c4660e815448",
   "metadata": {},
   "outputs": [
    {
     "name": "stdout",
     "output_type": "stream",
     "text": [
      " A B C D E\n",
      " A B C D E\n",
      " A B C D E\n",
      " A B C D E\n",
      " A B C D E\n"
     ]
    }
   ],
   "source": [
    "#5-for\n",
    "for i in range(1,6):\n",
    "    lst = ['A','B','C','D','E']\n",
    "    st = \"\"\n",
    "    for i in lst:\n",
    "        st += \" \"+i\n",
    "    print(st)\n",
    "        "
   ]
  },
  {
   "cell_type": "code",
   "execution_count": 55,
   "id": "3410374b-f416-407c-bd24-80a5ebd07caa",
   "metadata": {},
   "outputs": [
    {
     "name": "stdout",
     "output_type": "stream",
     "text": [
      " A B C D E\n",
      " A B C D E\n",
      " A B C D E\n",
      " A B C D E\n",
      " A B C D E\n"
     ]
    }
   ],
   "source": [
    "#5-while\n",
    "n0 = 1\n",
    "while n0<=5:\n",
    "    lst = ['A','B','C','D','E']\n",
    "    n = 0\n",
    "    st = \"\"\n",
    "    while n<5:\n",
    "        st+=\" \"+lst[n]\n",
    "        n = n+1\n",
    "    print(st)\n",
    "    n0 = n0+1"
   ]
  },
  {
   "cell_type": "code",
   "execution_count": 56,
   "id": "4a51ec10-13b2-4bce-98d9-1df4be391504",
   "metadata": {},
   "outputs": [
    {
     "name": "stdout",
     "output_type": "stream",
     "text": [
      " 5 5 5 5 5\n",
      " 4 4 4 4 4\n",
      " 3 3 3 3 3\n",
      " 2 2 2 2 2\n",
      " 1 1 1 1 1\n"
     ]
    }
   ],
   "source": [
    "#6-for\n",
    "for i in range(5,0,-1):\n",
    "    a = 5*(\" \"+str(i))\n",
    "    print(a)"
   ]
  },
  {
   "cell_type": "code",
   "execution_count": 57,
   "id": "6ea37237-7968-4ae3-b120-98efdf1adf34",
   "metadata": {},
   "outputs": [
    {
     "name": "stdout",
     "output_type": "stream",
     "text": [
      " 5 5 5 5 5\n",
      " 4 4 4 4 4\n",
      " 3 3 3 3 3\n",
      " 2 2 2 2 2\n",
      " 1 1 1 1 1\n"
     ]
    }
   ],
   "source": [
    "#6-while\n",
    "n = 5\n",
    "while n>=1:\n",
    "    a = 5* (\" \"+str(n))\n",
    "    print(a)\n",
    "    n = n-1"
   ]
  },
  {
   "cell_type": "code",
   "execution_count": 58,
   "id": "98ead6f7-d3fc-46c6-b316-25b1fe0032b1",
   "metadata": {},
   "outputs": [
    {
     "name": "stdout",
     "output_type": "stream",
     "text": [
      " 5 4 3 2 1\n",
      " 5 4 3 2 1\n",
      " 5 4 3 2 1\n",
      " 5 4 3 2 1\n",
      " 5 4 3 2 1\n"
     ]
    }
   ],
   "source": [
    "#7-for\n",
    "for i in range(1,6):\n",
    "    st = \"\"\n",
    "    for j in range(5,0,-1):\n",
    "        st += \" \" + str(j)\n",
    "    print(st)"
   ]
  },
  {
   "cell_type": "code",
   "execution_count": 59,
   "id": "5119c2cb-3ba7-427f-ae0c-a505ce46d100",
   "metadata": {},
   "outputs": [
    {
     "name": "stdout",
     "output_type": "stream",
     "text": [
      " 5 4 3 2 1\n",
      " 5 4 3 2 1\n",
      " 5 4 3 2 1\n",
      " 5 4 3 2 1\n",
      " 5 4 3 2 1\n"
     ]
    }
   ],
   "source": [
    "#7-while\n",
    "n0 = 1\n",
    "while n0<=5:\n",
    "    n = 5\n",
    "    st = \"\"\n",
    "    while n>0:\n",
    "        st +=\" \"+str(n)\n",
    "        n=n-1\n",
    "    print(st)\n",
    "    n0 = n0+1"
   ]
  },
  {
   "cell_type": "code",
   "execution_count": 60,
   "id": "a7ba7594-4b1e-4bde-9bf3-ee91c010541c",
   "metadata": {},
   "outputs": [
    {
     "name": "stdout",
     "output_type": "stream",
     "text": [
      " E E E E E\n",
      " D D D D D\n",
      " C C C C C\n",
      " B B B B B\n",
      " A A A A A\n"
     ]
    }
   ],
   "source": [
    "#8-for\n",
    "lst = ['E','D','C','B','A']\n",
    "for i in lst:\n",
    "    print(5*(\" \"+i))"
   ]
  },
  {
   "cell_type": "code",
   "execution_count": 61,
   "id": "270079b4-5801-4fb3-902b-9fafb16a9390",
   "metadata": {},
   "outputs": [
    {
     "name": "stdout",
     "output_type": "stream",
     "text": [
      " E E E E E\n",
      " D D D D D\n",
      " C C C C C\n",
      " B B B B B\n",
      " A A A A A\n"
     ]
    }
   ],
   "source": [
    "#8-while\n",
    "lst = ['E','D','C','B','A']\n",
    "n = 0\n",
    "while n<5:\n",
    "    print(5*(\" \"+lst[n]))\n",
    "    n = n+1"
   ]
  },
  {
   "cell_type": "code",
   "execution_count": 62,
   "id": "04eb7bbb-2fec-4456-a39d-3d0917340e8b",
   "metadata": {},
   "outputs": [
    {
     "name": "stdout",
     "output_type": "stream",
     "text": [
      " E D C B A\n",
      " E D C B A\n",
      " E D C B A\n",
      " E D C B A\n",
      " E D C B A\n"
     ]
    }
   ],
   "source": [
    "#9-for\n",
    "for i in range(1,6):\n",
    "    lst = ['E','D','C','B','A']\n",
    "    st = \"\"\n",
    "    for i in lst:\n",
    "        st+=\" \"+i\n",
    "    print(st)"
   ]
  },
  {
   "cell_type": "code",
   "execution_count": 63,
   "id": "f05ee47a-0c22-4414-aa35-6d687e85f079",
   "metadata": {},
   "outputs": [
    {
     "name": "stdout",
     "output_type": "stream",
     "text": [
      " E D C B A\n",
      " E D C B A\n",
      " E D C B A\n",
      " E D C B A\n",
      " E D C B A\n"
     ]
    }
   ],
   "source": [
    "#9-while\n",
    "n0 = 1\n",
    "while n0<=5:\n",
    "    lst = ['E','D','C','B','A']\n",
    "    n = 0\n",
    "    st = \"\"\n",
    "    while n<5:\n",
    "        st+=\" \"+lst[n]\n",
    "        n = n+1\n",
    "    print(st)\n",
    "    n0 = n0+1\n",
    "        "
   ]
  },
  {
   "cell_type": "code",
   "execution_count": null,
   "id": "978994fd-0bdf-4287-b491-bbaa5f2dc0cb",
   "metadata": {},
   "outputs": [],
   "source": []
  }
 ],
 "metadata": {
  "kernelspec": {
   "display_name": "Python 3 (ipykernel)",
   "language": "python",
   "name": "python3"
  },
  "language_info": {
   "codemirror_mode": {
    "name": "ipython",
    "version": 3
   },
   "file_extension": ".py",
   "mimetype": "text/x-python",
   "name": "python",
   "nbconvert_exporter": "python",
   "pygments_lexer": "ipython3",
   "version": "3.12.0"
  }
 },
 "nbformat": 4,
 "nbformat_minor": 5
}
