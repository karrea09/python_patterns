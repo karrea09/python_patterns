{
 "cells": [
  {
   "cell_type": "code",
   "execution_count": 2,
   "id": "f54d0865-93b2-425b-8d54-129a4a3be0ce",
   "metadata": {},
   "outputs": [
    {
     "name": "stdout",
     "output_type": "stream",
     "text": [
      "*\n",
      "**\n",
      "***\n",
      "****\n",
      "*****\n"
     ]
    }
   ],
   "source": [
    "#10-for\n",
    "for i in range(1,6):\n",
    "    print(i*'*')"
   ]
  },
  {
   "cell_type": "code",
   "execution_count": 4,
   "id": "2795c48d-df5f-44a3-96e9-0f747f2ee4ed",
   "metadata": {},
   "outputs": [
    {
     "name": "stdout",
     "output_type": "stream",
     "text": [
      "*\n",
      "**\n",
      "***\n",
      "****\n",
      "*****\n"
     ]
    }
   ],
   "source": [
    "#10-while\n",
    "n = 1\n",
    "while n<=5:\n",
    "    print(n*'*')\n",
    "    n = n+1"
   ]
  },
  {
   "cell_type": "code",
   "execution_count": 5,
   "id": "bb418ddb-a2bd-4d66-a1d5-2b5af44e3bb4",
   "metadata": {},
   "outputs": [
    {
     "name": "stdout",
     "output_type": "stream",
     "text": [
      "1\n",
      "22\n",
      "333\n",
      "4444\n",
      "55555\n"
     ]
    }
   ],
   "source": [
    "#11-for\n",
    "for i in range(1,6):\n",
    "    print(i*str(i))"
   ]
  },
  {
   "cell_type": "code",
   "execution_count": 6,
   "id": "163fc55e-126b-43d1-88ce-f5412edfd824",
   "metadata": {},
   "outputs": [
    {
     "name": "stdout",
     "output_type": "stream",
     "text": [
      "1\n",
      "22\n",
      "333\n",
      "4444\n",
      "55555\n"
     ]
    }
   ],
   "source": [
    "#11-while\n",
    "n = 1\n",
    "while n<=5:\n",
    "    print(n*str(n))\n",
    "    n = n+1"
   ]
  },
  {
   "cell_type": "code",
   "execution_count": 7,
   "id": "2e47c3d1-f488-4ded-bc5c-1f52a7e9fcd9",
   "metadata": {},
   "outputs": [
    {
     "name": "stdout",
     "output_type": "stream",
     "text": [
      "1\n",
      "12\n",
      "123\n",
      "1234\n",
      "12345\n"
     ]
    }
   ],
   "source": [
    "#12-for\n",
    "st = \"\"\n",
    "for i in range(1,6):\n",
    "    st+=str(i)\n",
    "    print(st)"
   ]
  },
  {
   "cell_type": "code",
   "execution_count": 8,
   "id": "540e26bb-9f13-4afe-9dc0-97facf81cf0d",
   "metadata": {},
   "outputs": [
    {
     "name": "stdout",
     "output_type": "stream",
     "text": [
      "1\n",
      "12\n",
      "123\n",
      "1234\n",
      "12345\n"
     ]
    }
   ],
   "source": [
    "#12-while\n",
    "n = 1\n",
    "st = \"\"\n",
    "while n<=5:\n",
    "    st+=str(n)\n",
    "    print(st)\n",
    "    n = n+1"
   ]
  },
  {
   "cell_type": "code",
   "execution_count": 9,
   "id": "fd9441e7-5554-4cc0-a656-3ab06f4c7dde",
   "metadata": {},
   "outputs": [
    {
     "name": "stdout",
     "output_type": "stream",
     "text": [
      "A\n",
      "BB\n",
      "CCC\n",
      "DDDD\n",
      "EEEEE\n"
     ]
    }
   ],
   "source": [
    "#13-for\n",
    "lst = [\"A\",\"B\",\"C\",\"D\",\"E\"]\n",
    "n = 1\n",
    "for i in lst:\n",
    "    print(n*i)\n",
    "    n = n+1"
   ]
  },
  {
   "cell_type": "code",
   "execution_count": 10,
   "id": "f3d5cb94-3b28-4d3f-9ade-aae58fea4429",
   "metadata": {},
   "outputs": [
    {
     "name": "stdout",
     "output_type": "stream",
     "text": [
      "A\n",
      "BB\n",
      "CCC\n",
      "DDDD\n",
      "EEEEE\n"
     ]
    }
   ],
   "source": [
    "#13-while\n",
    "lst = [\"A\",\"B\",\"C\",\"D\",\"E\"]\n",
    "n = 0\n",
    "n1 = 1\n",
    "while n<5:\n",
    "    print(n1*lst[n])\n",
    "    n= n+1\n",
    "    n1 = n1+1"
   ]
  },
  {
   "cell_type": "code",
   "execution_count": 11,
   "id": "9dc70b33-78d3-4f84-b7f5-ed47503358f8",
   "metadata": {},
   "outputs": [
    {
     "name": "stdout",
     "output_type": "stream",
     "text": [
      "A\n",
      "AB\n",
      "ABC\n",
      "ABCD\n",
      "ABCDE\n"
     ]
    }
   ],
   "source": [
    "#14-for\n",
    "lst = ['A','B','C','D','E']\n",
    "st = \"\"\n",
    "for i in lst:\n",
    "    st+=i\n",
    "    print(st)"
   ]
  },
  {
   "cell_type": "code",
   "execution_count": 12,
   "id": "fc6f433e-1ce0-4296-b863-d5b0aad9cb2b",
   "metadata": {},
   "outputs": [
    {
     "name": "stdout",
     "output_type": "stream",
     "text": [
      "A\n",
      "AB\n",
      "ABC\n",
      "ABCD\n",
      "ABCDE\n"
     ]
    }
   ],
   "source": [
    "# 14 - while\n",
    "lst = ['A','B','C','D','E']\n",
    "n = 0\n",
    "st = \"\"\n",
    "while n<5:\n",
    "    st+=lst[n]\n",
    "    print(st)\n",
    "    n = n+1"
   ]
  },
  {
   "cell_type": "markdown",
   "id": "a85e3179-6419-44cc-9c97-8837cfca80c8",
   "metadata": {},
   "source": [
    "# Inverted Right angle:"
   ]
  },
  {
   "cell_type": "code",
   "execution_count": 16,
   "id": "5c4a875e-2347-4744-81cc-7a80399fdfe0",
   "metadata": {},
   "outputs": [
    {
     "name": "stdout",
     "output_type": "stream",
     "text": [
      "*****\n",
      "****\n",
      "***\n",
      "**\n",
      "*\n"
     ]
    }
   ],
   "source": [
    "# 15 - for\n",
    "for i in range(5,0,-1):\n",
    "    print(i*'*')"
   ]
  },
  {
   "cell_type": "code",
   "execution_count": 15,
   "id": "2b4e8665-bb92-489e-89ec-c917e6887353",
   "metadata": {},
   "outputs": [
    {
     "name": "stdout",
     "output_type": "stream",
     "text": [
      "*****\n",
      "****\n",
      "***\n",
      "**\n",
      "*\n"
     ]
    }
   ],
   "source": [
    "# 15 - while\n",
    "n = 5\n",
    "while n>0:\n",
    "    print(n*'*')\n",
    "    n = n-1"
   ]
  },
  {
   "cell_type": "code",
   "execution_count": 17,
   "id": "690f4732-e8ed-4507-a33e-614f4f0e8ccc",
   "metadata": {},
   "outputs": [
    {
     "name": "stdout",
     "output_type": "stream",
     "text": [
      "11111\n",
      "2222\n",
      "333\n",
      "44\n",
      "5\n"
     ]
    }
   ],
   "source": [
    "# 16 - for\n",
    "n = 5\n",
    "for i in range(1,6):\n",
    "    print(n*str(i))\n",
    "    n = n-1"
   ]
  },
  {
   "cell_type": "code",
   "execution_count": 18,
   "id": "d809a78f-fe08-45ab-a721-6f9086e787fd",
   "metadata": {},
   "outputs": [
    {
     "name": "stdout",
     "output_type": "stream",
     "text": [
      "11111\n",
      "2222\n",
      "333\n",
      "44\n",
      "5\n"
     ]
    }
   ],
   "source": [
    "# 16 - while\n",
    "n = 5\n",
    "n1 = 1\n",
    "while n>0:\n",
    "    print(n*str(n1))\n",
    "    n = n-1\n",
    "    n1 = n1+1"
   ]
  },
  {
   "cell_type": "code",
   "execution_count": 19,
   "id": "6bc01354-582a-47a9-ae8e-1ac2afb5d90c",
   "metadata": {},
   "outputs": [
    {
     "name": "stdout",
     "output_type": "stream",
     "text": [
      "12345\n",
      "1234\n",
      "123\n",
      "12\n",
      "1\n"
     ]
    }
   ],
   "source": [
    "# 17 - for\n",
    "n = 6\n",
    "for i in range(1,6):\n",
    "    for j in range(1,n):\n",
    "        print(j,end = \"\")\n",
    "    print()\n",
    "    n = n-1"
   ]
  },
  {
   "cell_type": "code",
   "execution_count": 20,
   "id": "dff21201-3d48-420c-b07e-816890e56294",
   "metadata": {},
   "outputs": [
    {
     "name": "stdout",
     "output_type": "stream",
     "text": [
      "12345\n",
      "1234\n",
      "123\n",
      "12\n",
      "1\n"
     ]
    }
   ],
   "source": [
    "# 17 - while\n",
    "n1 = 1\n",
    "n2 = 6\n",
    "while n1<6:\n",
    "    n = 1\n",
    "    while n<n2:\n",
    "        print(n,end = \"\")\n",
    "        n = n+1\n",
    "    n2 = n2-1\n",
    "    print()\n",
    "    n1 = n1+1\n",
    "        "
   ]
  },
  {
   "cell_type": "code",
   "execution_count": 21,
   "id": "a3a8cfa5-11c2-4f23-959c-be19e463a478",
   "metadata": {},
   "outputs": [
    {
     "name": "stdout",
     "output_type": "stream",
     "text": [
      "AAAAA\n",
      "BBBB\n",
      "CCC\n",
      "DD\n",
      "E\n"
     ]
    }
   ],
   "source": [
    "# 18 - for\n",
    "lst = [\"A\",\"B\",\"C\",\"D\",\"E\"]\n",
    "n = 0\n",
    "for i in range(5,0,-1):\n",
    "    print(i*lst[n])\n",
    "    n = n+1\n",
    "    "
   ]
  },
  {
   "cell_type": "code",
   "execution_count": 22,
   "id": "48aac8c8-6ab8-4458-9d9e-d85668306779",
   "metadata": {},
   "outputs": [
    {
     "name": "stdout",
     "output_type": "stream",
     "text": [
      "AAAAA\n",
      "BBBB\n",
      "CCC\n",
      "DD\n",
      "E\n"
     ]
    }
   ],
   "source": [
    "# 18 - while\n",
    "lst = [\"A\",\"B\",\"C\",\"D\",\"E\"]\n",
    "n = 0\n",
    "n1 = 5\n",
    "while n<5:\n",
    "    print(n1*lst[n])\n",
    "    n = n+1\n",
    "    n1=n1-1"
   ]
  },
  {
   "cell_type": "code",
   "execution_count": 23,
   "id": "243207ea-c581-4e27-884a-c88462b8efbf",
   "metadata": {},
   "outputs": [
    {
     "name": "stdout",
     "output_type": "stream",
     "text": [
      "ABCDE\n",
      "ABCD\n",
      "ABC\n",
      "AB\n",
      "A\n"
     ]
    }
   ],
   "source": [
    "# 19 - for\n",
    "lst = [\"A\",\"B\",\"C\",\"D\",\"E\"]\n",
    "n = 5\n",
    "for i in range(1,6):\n",
    "    for i in range(0,n):\n",
    "        print(lst[i],end= \"\")\n",
    "    print()\n",
    "    n = n-1\n",
    "        "
   ]
  },
  {
   "cell_type": "code",
   "execution_count": 24,
   "id": "181463f3-f7f9-4ee4-a26d-c16eb529b5a6",
   "metadata": {},
   "outputs": [
    {
     "name": "stdout",
     "output_type": "stream",
     "text": [
      "ABCDE\n",
      "ABCD\n",
      "ABC\n",
      "AB\n",
      "A\n"
     ]
    }
   ],
   "source": [
    "# 19 - while\n",
    "lst = [\"A\",\"B\",\"C\",\"D\",\"E\"]\n",
    "n1 = 1\n",
    "n2=5\n",
    "while n1<6:\n",
    "    n = 0\n",
    "    while n<n2:\n",
    "        print(lst[n],end = \"\")\n",
    "        n = n+1\n",
    "    print()\n",
    "    n1 = n1+1\n",
    "    n2=n2-1"
   ]
  },
  {
   "cell_type": "code",
   "execution_count": 25,
   "id": "9834b21e-32c4-4878-a854-150c5e6d4afe",
   "metadata": {},
   "outputs": [
    {
     "name": "stdout",
     "output_type": "stream",
     "text": [
      "55555\n",
      "4444\n",
      "333\n",
      "22\n",
      "1\n"
     ]
    }
   ],
   "source": [
    "# 20 - for\n",
    "for i in range(5,0,-1):\n",
    "    print(i* str(i))"
   ]
  },
  {
   "cell_type": "code",
   "execution_count": 26,
   "id": "ae90462c-4af2-4863-a639-7c87c0b6bb88",
   "metadata": {},
   "outputs": [
    {
     "name": "stdout",
     "output_type": "stream",
     "text": [
      "55555\n",
      "4444\n",
      "333\n",
      "22\n",
      "1\n"
     ]
    }
   ],
   "source": [
    "# 20 - while\n",
    "n = 5\n",
    "while n>0:\n",
    "    print(n* str(n))\n",
    "    n = n-1"
   ]
  },
  {
   "cell_type": "code",
   "execution_count": 27,
   "id": "771d775b-125d-484a-bd89-e4abd6357b32",
   "metadata": {},
   "outputs": [
    {
     "name": "stdout",
     "output_type": "stream",
     "text": [
      "54321\n",
      "5432\n",
      "543\n",
      "54\n",
      "5\n"
     ]
    }
   ],
   "source": [
    "# 21 for\n",
    "n = 0\n",
    "for i in range(1,6):\n",
    "    for j in range(5,n,-1):\n",
    "        print(j,end = \"\")\n",
    "    print()\n",
    "    n = n+1\n",
    "        "
   ]
  },
  {
   "cell_type": "code",
   "execution_count": 28,
   "id": "9f82c04f-83a2-4fb4-9a4d-97e09eb0eda7",
   "metadata": {},
   "outputs": [
    {
     "name": "stdout",
     "output_type": "stream",
     "text": [
      "54321\n",
      "5432\n",
      "543\n",
      "54\n",
      "5\n"
     ]
    }
   ],
   "source": [
    "# 21 while\n",
    "n1 = 0\n",
    "x = 1\n",
    "while x<6:\n",
    "    n = 5\n",
    "    while n>n1:\n",
    "        print(n,end = \"\")\n",
    "        n = n-1\n",
    "    print()\n",
    "    n1 = n1+1\n",
    "    x = x+1"
   ]
  },
  {
   "cell_type": "code",
   "execution_count": 37,
   "id": "bb240bcb-665d-4146-a2a9-62d08bed4d46",
   "metadata": {},
   "outputs": [
    {
     "name": "stdout",
     "output_type": "stream",
     "text": [
      "EEEEE\n",
      "DDDD\n",
      "CCC\n",
      "BB\n",
      "A\n"
     ]
    }
   ],
   "source": [
    "# 22 for\n",
    "lst = [\"E\",\"D\",\"C\",\"B\",\"A\"]\n",
    "n = 5\n",
    "for i in lst:\n",
    "    print(n*i)\n",
    "    n = n-1"
   ]
  },
  {
   "cell_type": "code",
   "execution_count": 38,
   "id": "9f24ff2f-909d-449e-bf54-29a4e27a86c1",
   "metadata": {},
   "outputs": [
    {
     "name": "stdout",
     "output_type": "stream",
     "text": [
      "EEEEE\n",
      "DDDD\n",
      "CCC\n",
      "BB\n",
      "A\n"
     ]
    }
   ],
   "source": [
    "# 22 while\n",
    "lst = [\"E\",\"D\",\"C\",\"B\",\"A\"]\n",
    "n = 0\n",
    "n1 = 5\n",
    "while n<5:\n",
    "    print(n1*lst[n])\n",
    "    n1 = n1-1\n",
    "    n = n+1"
   ]
  },
  {
   "cell_type": "code",
   "execution_count": 51,
   "id": "9ac18e98-647c-49cb-b67f-20d87477d2eb",
   "metadata": {},
   "outputs": [
    {
     "name": "stdout",
     "output_type": "stream",
     "text": [
      "EDCBA\n",
      "EDCB\n",
      "EDC\n",
      "ED\n",
      "E\n"
     ]
    }
   ],
   "source": [
    "# 23 for\n",
    "lst = [\"E\",\"D\",\"C\",\"B\",\"A\"]\n",
    "n = 5\n",
    "for i in range(1,6):\n",
    "    for i in range(0,n):\n",
    "        print(lst[i],end = \"\")\n",
    "    print()\n",
    "    n = n-1\n",
    "    \n",
    "        "
   ]
  },
  {
   "cell_type": "code",
   "execution_count": 52,
   "id": "f104f9ad-d394-4d3a-ade2-fd88aac4717e",
   "metadata": {},
   "outputs": [
    {
     "name": "stdout",
     "output_type": "stream",
     "text": [
      "EDCBA\n",
      "EDCB\n",
      "EDC\n",
      "ED\n",
      "E\n"
     ]
    }
   ],
   "source": [
    "# 23 while\n",
    "lst = [\"E\",\"D\",\"C\",\"B\",\"A\"]\n",
    "n1 = 0\n",
    "n2 = 5\n",
    "while n1<5:\n",
    "    n = 0\n",
    "    while n<n2:\n",
    "        print(lst[n],end = \"\")\n",
    "        n = n+1\n",
    "    print()\n",
    "    n2 = n2-1\n",
    "\n",
    "    n1 = n1+1"
   ]
  },
  {
   "cell_type": "code",
   "execution_count": null,
   "id": "d59091eb-6255-4278-b7e2-5f7cd183a23d",
   "metadata": {},
   "outputs": [],
   "source": []
  }
 ],
 "metadata": {
  "kernelspec": {
   "display_name": "Python 3 (ipykernel)",
   "language": "python",
   "name": "python3"
  },
  "language_info": {
   "codemirror_mode": {
    "name": "ipython",
    "version": 3
   },
   "file_extension": ".py",
   "mimetype": "text/x-python",
   "name": "python",
   "nbconvert_exporter": "python",
   "pygments_lexer": "ipython3",
   "version": "3.12.0"
  }
 },
 "nbformat": 4,
 "nbformat_minor": 5
}
